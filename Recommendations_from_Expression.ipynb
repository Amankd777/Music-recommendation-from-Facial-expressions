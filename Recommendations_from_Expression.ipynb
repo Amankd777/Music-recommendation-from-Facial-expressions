{
  "cells": [
    {
      "cell_type": "code",
      "execution_count": 2,
      "id": "9ee4770d",
      "metadata": {
        "id": "9ee4770d"
      },
      "outputs": [],
      "source": [
        "from tensorflow.keras.utils import img_to_array\n",
        "import imutils\n",
        "from keras.models import load_model\n",
        "import numpy as np\n",
        "import cv2"
      ]
    },
    {
      "cell_type": "code",
      "execution_count": 4,
      "id": "57b869ca",
      "metadata": {
        "id": "57b869ca"
      },
      "outputs": [],
      "source": [
        "detection_model_path = '/content/drive/MyDrive/haarcascade_frontalface_default.xml'\n",
        "emotion_model_path = '/content/drive/MyDrive/emotion_detection_model.h5'\n",
        "face_detection = cv2.CascadeClassifier(detection_model_path)\n",
        "emotion_classifier = load_model(emotion_model_path, compile=False)\n",
        "EMOTIONS = [\"disgust\",\"happy\",\"sad\",\"neutral\"]"
      ]
    },
    {
      "cell_type": "code",
      "source": [
        "from google.colab import drive\n",
        "drive.mount('/content/drive')"
      ],
      "metadata": {
        "colab": {
          "base_uri": "https://localhost:8080/"
        },
        "id": "noXxclzyTV2F",
        "outputId": "f85b9fc6-dd04-41b8-94da-3aaf9ed34d6d"
      },
      "id": "noXxclzyTV2F",
      "execution_count": 1,
      "outputs": [
        {
          "output_type": "stream",
          "name": "stdout",
          "text": [
            "Mounted at /content/drive\n"
          ]
        }
      ]
    },
    {
      "cell_type": "code",
      "execution_count": 5,
      "id": "09e18af6",
      "metadata": {
        "id": "09e18af6"
      },
      "outputs": [],
      "source": [
        "def get_results(emotion_word):\n",
        "  NUM_RECOMMEND=10\n",
        "  if emotion_word =='happy':\n",
        "      return (data[(data['kmeans'] == 2) & (data['popularity'] > 75) & (data['song_name'] != 'NaN')][['song_name','artists']].sample(NUM_RECOMMEND))\n",
        "  elif emotion_word =='sad':\n",
        "      return (data[(data['kmeans'] == 1) & (data['popularity'] > 66) & (data['song_name'] != 'NaN')][['song_name','artists']].sample(NUM_RECOMMEND))\n",
        "  elif emotion_word=='disgust':\n",
        "      return (data[(data['kmeans'] == 0) & (data['popularity'] > 75) & (data['song_name'] != 'NaN')][['song_name','artists']].sample(NUM_RECOMMEND))\n",
        "  elif emotion_word=='neutral':\n",
        "      return (data[(data['kmeans'] == 3) & (data['popularity'] > 69) & (data['song_name'] != 'NaN')][['song_name','artists']].sample(NUM_RECOMMEND))"
      ]
    },
    {
      "cell_type": "code",
      "execution_count": 8,
      "id": "93f1e46c",
      "metadata": {
        "id": "93f1e46c"
      },
      "outputs": [],
      "source": [
        "from keras.preprocessing import image\n",
        "def emotion_testing():\n",
        "        cap=cv2.VideoCapture(0)\n",
        "        while True:\n",
        "            ret,test_img=cap.read()# captures frame and returns boolean value and captured image\n",
        "            if not ret:\n",
        "                continue\n",
        "            gray_img= cv2.cvtColor(test_img, cv2.COLOR_BGR2GRAY)\n",
        "\n",
        "            faces_detected = face_detection.detectMultiScale(gray_img, 1.32, 5)\n",
        "\n",
        "\n",
        "            for (x,y,w,h) in faces_detected:\n",
        "                cv2.rectangle(test_img,(x,y),(x+w,y+h),(255,0,0),thickness=7)\n",
        "                roi_gray=gray_img[y:y+w,x:x+h]#cropping region of interest i.e. face area from  image\n",
        "                roi_gray=cv2.resize(roi_gray,(48,48))\n",
        "                img_pixels = img_to_array(roi_gray)\n",
        "                img_pixels = np.expand_dims(img_pixels, axis = 0)\n",
        "                img_pixels /= 255\n",
        "\n",
        "                predictions = emotion_classifier.predict(img_pixels)\n",
        "                print(predictions)\n",
        "\n",
        "                 #find max indexed array\n",
        "                max_index = np.argmax(predictions[0])\n",
        "                print(max_index)\n",
        "                predicted_emotion = EMOTIONS[max_index]\n",
        "                print(predicted_emotion)\n",
        "                print(get_results(predicted_emotion))\n",
        "\n",
        "                cv2.putText(test_img, predicted_emotion, (int(x), int(y)), cv2.FONT_HERSHEY_SIMPLEX, 1, (0,0,255), 2)\n",
        "\n",
        "            resized_img = cv2.resize(test_img, (1000, 700))\n",
        "            cv2.imshow('Facial emotion analysis ',resized_img)\n",
        "\n",
        "            if cv2.waitKey(0) & 0xFF == ord('q'):\n",
        "                break\n",
        "        cap.release()\n",
        "        cv2.destroyAllWindows\n",
        ""
      ]
    },
    {
      "cell_type": "code",
      "execution_count": null,
      "id": "0373ed35",
      "metadata": {
        "id": "0373ed35",
        "outputId": "c1ef21b6-12f1-4bcc-e922-bea6b9dfb36e"
      },
      "outputs": [
        {
          "name": "stdout",
          "output_type": "stream",
          "text": [
            "1/1 [==============================] - 0s 422ms/step\n",
            "[[1.0018645e-04 8.8174410e-02 2.9459570e-02 8.8226581e-01]]\n",
            "3\n",
            "neutral\n",
            "                            song_name                              artists\n",
            "16120                    All the Time                     ['Zara Larsson']\n",
            "87364        I Like The Sound Of That                    ['Rascal Flatts']\n",
            "78063       2 Hearts (feat. Gia Koka)   ['Sam Feldt', 'Sigma', 'Gia Koka']\n",
            "97704                    Amor Tumbado                    ['Natanael Cano']\n",
            "97214  Outside (feat. Ellie Goulding)  ['Calvin Harris', 'Ellie Goulding']\n",
            "86259     I Hate Everything About You                 ['Three Days Grace']\n",
            "97778                 i'm so tired...              ['Lauv', 'Troye Sivan']\n",
            "87464                  Loud and Heavy                       ['Cody Jinks']\n",
            "70537                         Orphans                         ['Coldplay']\n",
            "86961                       Marry You                       ['Bruno Mars']\n",
            "1/1 [==============================] - 0s 100ms/step\n",
            "[[7.9095971e-06 4.4996005e-02 7.2331885e-03 9.4776285e-01]]\n",
            "3\n",
            "neutral\n",
            "                                        song_name  \\\n",
            "87173                            My Kind of Woman   \n",
            "96676                               Like a Prayer   \n",
            "144160  What I Like About You (feat. Theresa Rex)   \n",
            "86675                               The Pretender   \n",
            "87725                               First Day Out   \n",
            "7883                                 What is Love   \n",
            "126096                 Open Window Thunder Sounds   \n",
            "7956                                Looking at Me   \n",
            "86856                              I Will Not Bow   \n",
            "70494                       No Sleep (feat. Bonn)   \n",
            "\n",
            "                              artists  \n",
            "87173                 ['Mac DeMarco']  \n",
            "96676                     ['Madonna']  \n",
            "144160  ['Jonas Blue', 'Theresa Rex']  \n",
            "86675                ['Foo Fighters']  \n",
            "87725                ['Tee Grizzley']  \n",
            "7883                        ['TWICE']  \n",
            "126096               ['Brain Timbre']  \n",
            "7956            ['Sabrina Carpenter']  \n",
            "86856           ['Breaking Benjamin']  \n",
            "70494       ['Martin Garrix', 'Bonn']  \n",
            "1/1 [==============================] - 0s 53ms/step\n",
            "[[1.4825920e-10 9.9985313e-01 1.8115516e-06 1.4507044e-04]]\n",
            "1\n",
            "happy\n",
            "                                                song_name  \\\n",
            "126203                                        Hallucinate   \n",
            "87855                                                 BOP   \n",
            "135364                                            Jangueo   \n",
            "126170                                            La Zona   \n",
            "86446                                         Gold Digger   \n",
            "87850                                     Don't Start Now   \n",
            "55550                                                Loco   \n",
            "87898                                          Does To Me   \n",
            "97800   Summer Feelings (feat. Charlie Puth) - From 'S...   \n",
            "135386                                  Que Tire Pa Lante   \n",
            "\n",
            "                                  artists  \n",
            "126203                       ['Dua Lipa']  \n",
            "87855                          ['DaBaby']  \n",
            "135364        ['Alex Rose', 'Rafa Pabön']  \n",
            "126170                      ['Bad Bunny']  \n",
            "86446        ['Kanye West', 'Jamie Foxx']  \n",
            "87850                        ['Dua Lipa']  \n",
            "55550                           ['Beéle']  \n",
            "87898       ['Luke Combs', 'Eric Church']  \n",
            "97800   ['Lennon Stella', 'Charlie Puth']  \n",
            "135386                   ['Daddy Yankee']  \n",
            "1/1 [==============================] - 0s 98ms/step\n",
            "[[1.0884827e-05 9.8858517e-01 8.6508691e-03 2.7531157e-03]]\n",
            "1\n",
            "happy\n",
            "                                      song_name  \\\n",
            "87787                                  3 Nights   \n",
            "97665                             Yellow Hearts   \n",
            "55550                                      Loco   \n",
            "32196                             Break Up Song   \n",
            "116724                                     Keii   \n",
            "87698                           Sorry Not Sorry   \n",
            "87514                              Drag Me Down   \n",
            "87998   COOLER THAN A BITCH (feat. Roddy Ricch)   \n",
            "87947              Savage Remix (feat. Beyoncé)   \n",
            "87868                                 Adore You   \n",
            "\n",
            "                                   artists  \n",
            "87787                     ['Dominic Fike']  \n",
            "97665                     ['Ant Saunders']  \n",
            "55550                            ['Beéle']  \n",
            "32196                       ['Little Mix']  \n",
            "116724                        ['Anuel AA']  \n",
            "87698                      ['Demi Lovato']  \n",
            "87514                    ['One Direction']  \n",
            "87998             ['Gunna', 'Roddy Ricch']  \n",
            "87947   ['Megan Thee Stallion', 'Beyoncé']  \n",
            "87868                     ['Harry Styles']  \n",
            "1/1 [==============================] - 0s 43ms/step\n",
            "[[7.7197765e-05 9.6170980e-01 3.3139024e-02 5.0739138e-03]]\n",
            "1\n",
            "happy\n",
            "                             song_name  \\\n",
            "126065                Yo x Ti, Tu x Mi   \n",
            "107158                            Vete   \n",
            "116539              Lottery (Renegade)   \n",
            "87459   Uptown Funk (feat. Bruno Mars)   \n",
            "116390         Chantaje (feat. Maluma)   \n",
            "126042               El Efecto - Remix   \n",
            "97753                         La Santa   \n",
            "126013       Promises (with Sam Smith)   \n",
            "7964                   La Boca - Remix   \n",
            "70485                        Instagram   \n",
            "\n",
            "                                                  artists  \n",
            "126065                               ['ROSALÍA', 'Ozuna']  \n",
            "107158                                      ['Bad Bunny']  \n",
            "116539                                         ['K CAMP']  \n",
            "87459                       ['Mark Ronson', 'Bruno Mars']  \n",
            "116390                              ['Shakira', 'Maluma']  \n",
            "126042  ['Rauw Alejandro', 'Chencho Corleone', 'KEVVO'...  \n",
            "97753                       ['Bad Bunny', 'Daddy Yankee']  \n",
            "126013     ['Calvin Harris', 'Sam Smith', 'Jessie Reyez']  \n",
            "7964                   ['Mau y Ricky', 'Camilo', 'Lunay']  \n",
            "70485   ['Dimitri Vegas & Like Mike', 'David Guetta', ...  \n",
            "1/1 [==============================] - 0s 49ms/step\n",
            "[[4.3052860e-04 8.6873613e-02 7.2376263e-01 1.8893324e-01]]\n",
            "2\n",
            "sad\n",
            "                           song_name                      artists\n",
            "135467                      that way               ['Tate McRae']\n",
            "97713             listen before i go            ['Billie Eilish']\n",
            "86863                         Rosyln  ['Bon Iver', 'St. Vincent']\n",
            "16012   Shhhh Baby Shusher For Sleep               ['Baby Sleep']\n",
            "87468                            L$D               ['A$AP Rocky']\n",
            "116541                     Fine Line             ['Harry Styles']\n",
            "143939                  Rain at Dawn               ['Chill Bees']\n",
            "47978                   The greatest             ['Lana Del Rey']\n",
            "63110                      Celandine        ['Francesca Caroléo']\n",
            "32109                Calm Rain pt. 1       ['Outside HD Samples']\n"
          ]
        }
      ],
      "source": [
        "a = emotion_testing()\n",
        "a"
      ]
    }
  ],
  "metadata": {
    "kernelspec": {
      "display_name": "Python 3 (ipykernel)",
      "language": "python",
      "name": "python3"
    },
    "language_info": {
      "codemirror_mode": {
        "name": "ipython",
        "version": 3
      },
      "file_extension": ".py",
      "mimetype": "text/x-python",
      "name": "python",
      "nbconvert_exporter": "python",
      "pygments_lexer": "ipython3",
      "version": "3.10.0"
    },
    "colab": {
      "provenance": []
    }
  },
  "nbformat": 4,
  "nbformat_minor": 5
}